{
 "cells": [
  {
   "cell_type": "code",
   "execution_count": 2,
   "metadata": {},
   "outputs": [],
   "source": [
    "import numpy as np\n",
    "import pandas as pd\n",
    "from sklearn.feature_extraction.text import TfidfVectorizer\n",
    "import glob\n",
    "import json\n",
    "import csv\n",
    "import matplotlib.pyplot as plt\n",
    "from sklearn.decomposition import PCA\n",
    "from sklearn.metrics import silhouette_score\n",
    "from sklearn.cluster import KMeans\n",
    "from sklearn.metrics.pairwise import cosine_similarity\n",
    "import findspark\n",
    "findspark.init()\n",
    "import pyspark\n",
    "from pyspark.sql import SQLContext,SparkSession\n",
    "from pyspark import SparkContext,SparkConf,StorageLevel\n",
    "from scipy.sparse import csr_matrix\n",
    "from tqdm import tqdm\n",
    "from scipy import sparse\n",
    "from graphframes import *\n",
    "import re\n",
    "from nltk.tokenize import sent_tokenize\n",
    "from wordcloud import WordCloud, STOPWORDS, ImageColorGenerator"
   ]
  },
  {
   "cell_type": "code",
   "execution_count": 3,
   "metadata": {
    "scrolled": true
   },
   "outputs": [
    {
     "name": "stderr",
     "output_type": "stream",
     "text": [
      "/usr/local/anaconda/lib/python3.7/site-packages/IPython/core/interactiveshell.py:3049: DtypeWarning: Columns (1,5,13,14,15,16) have mixed types. Specify dtype option on import or set low_memory=False.\n",
      "  interactivity=interactivity, compiler=compiler, result=result)\n"
     ]
    },
    {
     "data": {
      "text/html": [
       "<div>\n",
       "<style scoped>\n",
       "    .dataframe tbody tr th:only-of-type {\n",
       "        vertical-align: middle;\n",
       "    }\n",
       "\n",
       "    .dataframe tbody tr th {\n",
       "        vertical-align: top;\n",
       "    }\n",
       "\n",
       "    .dataframe thead th {\n",
       "        text-align: right;\n",
       "    }\n",
       "</style>\n",
       "<table border=\"1\" class=\"dataframe\">\n",
       "  <thead>\n",
       "    <tr style=\"text-align: right;\">\n",
       "      <th></th>\n",
       "      <th>cord_uid</th>\n",
       "      <th>sha</th>\n",
       "      <th>source_x</th>\n",
       "      <th>title</th>\n",
       "      <th>doi</th>\n",
       "      <th>pmcid</th>\n",
       "      <th>pubmed_id</th>\n",
       "      <th>license</th>\n",
       "      <th>abstract</th>\n",
       "      <th>publish_time</th>\n",
       "      <th>authors</th>\n",
       "      <th>journal</th>\n",
       "      <th>mag_id</th>\n",
       "      <th>who_covidence_id</th>\n",
       "      <th>arxiv_id</th>\n",
       "      <th>pdf_json_files</th>\n",
       "      <th>pmc_json_files</th>\n",
       "      <th>url</th>\n",
       "      <th>s2_id</th>\n",
       "    </tr>\n",
       "  </thead>\n",
       "  <tbody>\n",
       "    <tr>\n",
       "      <th>0</th>\n",
       "      <td>ug7v899j</td>\n",
       "      <td>d1aafb70c066a2068b02786f8929fd9c900897fb</td>\n",
       "      <td>PMC</td>\n",
       "      <td>Clinical features of culture-proven Mycoplasma...</td>\n",
       "      <td>10.1186/1471-2334-1-6</td>\n",
       "      <td>PMC35282</td>\n",
       "      <td>11472636</td>\n",
       "      <td>no-cc</td>\n",
       "      <td>OBJECTIVE: This retrospective chart review des...</td>\n",
       "      <td>2001-07-04</td>\n",
       "      <td>Madani, Tariq A; Al-Ghamdi, Aisha A</td>\n",
       "      <td>BMC Infect Dis</td>\n",
       "      <td>NaN</td>\n",
       "      <td>NaN</td>\n",
       "      <td>NaN</td>\n",
       "      <td>document_parses/pdf_json/d1aafb70c066a2068b027...</td>\n",
       "      <td>document_parses/pmc_json/PMC35282.xml.json</td>\n",
       "      <td>https://www.ncbi.nlm.nih.gov/pmc/articles/PMC3...</td>\n",
       "      <td>NaN</td>\n",
       "    </tr>\n",
       "    <tr>\n",
       "      <th>1</th>\n",
       "      <td>02tnwd4m</td>\n",
       "      <td>6b0567729c2143a66d737eb0a2f63f2dce2e5a7d</td>\n",
       "      <td>PMC</td>\n",
       "      <td>Nitric oxide: a pro-inflammatory mediator in l...</td>\n",
       "      <td>10.1186/rr14</td>\n",
       "      <td>PMC59543</td>\n",
       "      <td>11667967</td>\n",
       "      <td>no-cc</td>\n",
       "      <td>Inflammatory diseases of the respiratory tract...</td>\n",
       "      <td>2000-08-15</td>\n",
       "      <td>Vliet, Albert van der; Eiserich, Jason P; Cros...</td>\n",
       "      <td>Respir Res</td>\n",
       "      <td>NaN</td>\n",
       "      <td>NaN</td>\n",
       "      <td>NaN</td>\n",
       "      <td>document_parses/pdf_json/6b0567729c2143a66d737...</td>\n",
       "      <td>document_parses/pmc_json/PMC59543.xml.json</td>\n",
       "      <td>https://www.ncbi.nlm.nih.gov/pmc/articles/PMC5...</td>\n",
       "      <td>NaN</td>\n",
       "    </tr>\n",
       "    <tr>\n",
       "      <th>2</th>\n",
       "      <td>ejv2xln0</td>\n",
       "      <td>06ced00a5fc04215949aa72528f2eeaae1d58927</td>\n",
       "      <td>PMC</td>\n",
       "      <td>Surfactant protein-D and pulmonary host defense</td>\n",
       "      <td>10.1186/rr19</td>\n",
       "      <td>PMC59549</td>\n",
       "      <td>11667972</td>\n",
       "      <td>no-cc</td>\n",
       "      <td>Surfactant protein-D (SP-D) participates in th...</td>\n",
       "      <td>2000-08-25</td>\n",
       "      <td>Crouch, Erika C</td>\n",
       "      <td>Respir Res</td>\n",
       "      <td>NaN</td>\n",
       "      <td>NaN</td>\n",
       "      <td>NaN</td>\n",
       "      <td>document_parses/pdf_json/06ced00a5fc04215949aa...</td>\n",
       "      <td>document_parses/pmc_json/PMC59549.xml.json</td>\n",
       "      <td>https://www.ncbi.nlm.nih.gov/pmc/articles/PMC5...</td>\n",
       "      <td>NaN</td>\n",
       "    </tr>\n",
       "    <tr>\n",
       "      <th>3</th>\n",
       "      <td>2b73a28n</td>\n",
       "      <td>348055649b6b8cf2b9a376498df9bf41f7123605</td>\n",
       "      <td>PMC</td>\n",
       "      <td>Role of endothelin-1 in lung disease</td>\n",
       "      <td>10.1186/rr44</td>\n",
       "      <td>PMC59574</td>\n",
       "      <td>11686871</td>\n",
       "      <td>no-cc</td>\n",
       "      <td>Endothelin-1 (ET-1) is a 21 amino acid peptide...</td>\n",
       "      <td>2001-02-22</td>\n",
       "      <td>Fagan, Karen A; McMurtry, Ivan F; Rodman, David M</td>\n",
       "      <td>Respir Res</td>\n",
       "      <td>NaN</td>\n",
       "      <td>NaN</td>\n",
       "      <td>NaN</td>\n",
       "      <td>document_parses/pdf_json/348055649b6b8cf2b9a37...</td>\n",
       "      <td>document_parses/pmc_json/PMC59574.xml.json</td>\n",
       "      <td>https://www.ncbi.nlm.nih.gov/pmc/articles/PMC5...</td>\n",
       "      <td>NaN</td>\n",
       "    </tr>\n",
       "    <tr>\n",
       "      <th>4</th>\n",
       "      <td>9785vg6d</td>\n",
       "      <td>5f48792a5fa08bed9f56016f4981ae2ca6031b32</td>\n",
       "      <td>PMC</td>\n",
       "      <td>Gene expression in epithelial cells in respons...</td>\n",
       "      <td>10.1186/rr61</td>\n",
       "      <td>PMC59580</td>\n",
       "      <td>11686888</td>\n",
       "      <td>no-cc</td>\n",
       "      <td>Respiratory syncytial virus (RSV) and pneumoni...</td>\n",
       "      <td>2001-05-11</td>\n",
       "      <td>Domachowske, Joseph B; Bonville, Cynthia A; Ro...</td>\n",
       "      <td>Respir Res</td>\n",
       "      <td>NaN</td>\n",
       "      <td>NaN</td>\n",
       "      <td>NaN</td>\n",
       "      <td>document_parses/pdf_json/5f48792a5fa08bed9f560...</td>\n",
       "      <td>document_parses/pmc_json/PMC59580.xml.json</td>\n",
       "      <td>https://www.ncbi.nlm.nih.gov/pmc/articles/PMC5...</td>\n",
       "      <td>NaN</td>\n",
       "    </tr>\n",
       "  </tbody>\n",
       "</table>\n",
       "</div>"
      ],
      "text/plain": [
       "   cord_uid                                       sha source_x  \\\n",
       "0  ug7v899j  d1aafb70c066a2068b02786f8929fd9c900897fb      PMC   \n",
       "1  02tnwd4m  6b0567729c2143a66d737eb0a2f63f2dce2e5a7d      PMC   \n",
       "2  ejv2xln0  06ced00a5fc04215949aa72528f2eeaae1d58927      PMC   \n",
       "3  2b73a28n  348055649b6b8cf2b9a376498df9bf41f7123605      PMC   \n",
       "4  9785vg6d  5f48792a5fa08bed9f56016f4981ae2ca6031b32      PMC   \n",
       "\n",
       "                                               title                    doi  \\\n",
       "0  Clinical features of culture-proven Mycoplasma...  10.1186/1471-2334-1-6   \n",
       "1  Nitric oxide: a pro-inflammatory mediator in l...           10.1186/rr14   \n",
       "2    Surfactant protein-D and pulmonary host defense           10.1186/rr19   \n",
       "3               Role of endothelin-1 in lung disease           10.1186/rr44   \n",
       "4  Gene expression in epithelial cells in respons...           10.1186/rr61   \n",
       "\n",
       "      pmcid pubmed_id license  \\\n",
       "0  PMC35282  11472636   no-cc   \n",
       "1  PMC59543  11667967   no-cc   \n",
       "2  PMC59549  11667972   no-cc   \n",
       "3  PMC59574  11686871   no-cc   \n",
       "4  PMC59580  11686888   no-cc   \n",
       "\n",
       "                                            abstract publish_time  \\\n",
       "0  OBJECTIVE: This retrospective chart review des...   2001-07-04   \n",
       "1  Inflammatory diseases of the respiratory tract...   2000-08-15   \n",
       "2  Surfactant protein-D (SP-D) participates in th...   2000-08-25   \n",
       "3  Endothelin-1 (ET-1) is a 21 amino acid peptide...   2001-02-22   \n",
       "4  Respiratory syncytial virus (RSV) and pneumoni...   2001-05-11   \n",
       "\n",
       "                                             authors         journal  mag_id  \\\n",
       "0                Madani, Tariq A; Al-Ghamdi, Aisha A  BMC Infect Dis     NaN   \n",
       "1  Vliet, Albert van der; Eiserich, Jason P; Cros...      Respir Res     NaN   \n",
       "2                                    Crouch, Erika C      Respir Res     NaN   \n",
       "3  Fagan, Karen A; McMurtry, Ivan F; Rodman, David M      Respir Res     NaN   \n",
       "4  Domachowske, Joseph B; Bonville, Cynthia A; Ro...      Respir Res     NaN   \n",
       "\n",
       "  who_covidence_id arxiv_id  \\\n",
       "0              NaN      NaN   \n",
       "1              NaN      NaN   \n",
       "2              NaN      NaN   \n",
       "3              NaN      NaN   \n",
       "4              NaN      NaN   \n",
       "\n",
       "                                      pdf_json_files  \\\n",
       "0  document_parses/pdf_json/d1aafb70c066a2068b027...   \n",
       "1  document_parses/pdf_json/6b0567729c2143a66d737...   \n",
       "2  document_parses/pdf_json/06ced00a5fc04215949aa...   \n",
       "3  document_parses/pdf_json/348055649b6b8cf2b9a37...   \n",
       "4  document_parses/pdf_json/5f48792a5fa08bed9f560...   \n",
       "\n",
       "                               pmc_json_files  \\\n",
       "0  document_parses/pmc_json/PMC35282.xml.json   \n",
       "1  document_parses/pmc_json/PMC59543.xml.json   \n",
       "2  document_parses/pmc_json/PMC59549.xml.json   \n",
       "3  document_parses/pmc_json/PMC59574.xml.json   \n",
       "4  document_parses/pmc_json/PMC59580.xml.json   \n",
       "\n",
       "                                                 url  s2_id  \n",
       "0  https://www.ncbi.nlm.nih.gov/pmc/articles/PMC3...    NaN  \n",
       "1  https://www.ncbi.nlm.nih.gov/pmc/articles/PMC5...    NaN  \n",
       "2  https://www.ncbi.nlm.nih.gov/pmc/articles/PMC5...    NaN  \n",
       "3  https://www.ncbi.nlm.nih.gov/pmc/articles/PMC5...    NaN  \n",
       "4  https://www.ncbi.nlm.nih.gov/pmc/articles/PMC5...    NaN  "
      ]
     },
     "execution_count": 3,
     "metadata": {},
     "output_type": "execute_result"
    }
   ],
   "source": [
    "# Ref: https://www.kaggle.com/maksimeren/covid-19-literature-clustering\n",
    "\n",
    "file_path = \"/media/jayesh/New Volume/Covid_19_dataset/C19data/metadata.csv\"\n",
    "C19_metadata = pd.read_csv(file_path,dtype={\n",
    "    'pubmed_id': str,\n",
    "    'Microsoft Academic Paper ID': str, \n",
    "    'doi': str })\n",
    "C19_metadata.head()"
   ]
  },
  {
   "cell_type": "code",
   "execution_count": 4,
   "metadata": {},
   "outputs": [
    {
     "name": "stdout",
     "output_type": "stream",
     "text": [
      "['/media/jayesh/New Volume/Covid_19_dataset/C19data/document_parses/pdf_json/0001418189999fea7f7cbe3e82703d71c85a6fe5.json', '/media/jayesh/New Volume/Covid_19_dataset/C19data/document_parses/pdf_json/0003793cf9e709bc2b9d0c8111186f78fb73fc04.json', '/media/jayesh/New Volume/Covid_19_dataset/C19data/document_parses/pdf_json/000379d7a7f37a2ccb978862b9f2016bd03259ea.json', '/media/jayesh/New Volume/Covid_19_dataset/C19data/document_parses/pdf_json/00039b94e6cb7609ecbddee1755314bcfeb77faa.json', '/media/jayesh/New Volume/Covid_19_dataset/C19data/document_parses/pdf_json/0003ddc51c4291d742855e9ac56076a3bea33ad7.json']\n",
      "139694\n"
     ]
    }
   ],
   "source": [
    "# Getting the path of json files into a list\n",
    "path = \"/media/jayesh/New Volume/Covid_19_dataset/C19data/\"\n",
    "json_paths = glob.glob(f'{path}/**/*.json',recursive=True)\n",
    "print(json_paths[:5])\n",
    "print(len(json_paths))"
   ]
  },
  {
   "cell_type": "code",
   "execution_count": 5,
   "metadata": {},
   "outputs": [
    {
     "name": "stderr",
     "output_type": "stream",
     "text": [
      "139694it [02:57, 785.14it/s] \n"
     ]
    }
   ],
   "source": [
    "# Reading the data from json files and putting it into a dataframe\n",
    "covid_data = {'paper_id':[],'title':[],'abstract':[],'text':[]}\n",
    "\n",
    "for id,each in tqdm(enumerate(json_paths)):\n",
    "            \n",
    "    with open(each) as f:\n",
    "        bodytext = []\n",
    "        abstract = []\n",
    "        try:\n",
    "            content = json.load(f)\n",
    "            for each_input in content[\"abstract\"]:\n",
    "                abstract.append(each_input[\"text\"])    \n",
    "            for each_input in content[\"body_text\"]:\n",
    "                bodytext.append(each_input[\"text\"])\n",
    "            bodytext = \" \".join(bodytext)\n",
    "            abstract = \" \".join(abstract)\n",
    "            covid_data['text'].append(bodytext)\n",
    "            covid_data['abstract'].append(abstract)\n",
    "            covid_data[\"paper_id\"].append(content[\"paper_id\"])\n",
    "            covid_data[\"title\"].append(content[\"metadata\"][\"title\"])\n",
    "        except:\n",
    "            continue\n",
    "       "
   ]
  },
  {
   "cell_type": "code",
   "execution_count": 6,
   "metadata": {},
   "outputs": [
    {
     "name": "stdout",
     "output_type": "stream",
     "text": [
      "80744\n"
     ]
    },
    {
     "data": {
      "text/html": [
       "<div>\n",
       "<style scoped>\n",
       "    .dataframe tbody tr th:only-of-type {\n",
       "        vertical-align: middle;\n",
       "    }\n",
       "\n",
       "    .dataframe tbody tr th {\n",
       "        vertical-align: top;\n",
       "    }\n",
       "\n",
       "    .dataframe thead th {\n",
       "        text-align: right;\n",
       "    }\n",
       "</style>\n",
       "<table border=\"1\" class=\"dataframe\">\n",
       "  <thead>\n",
       "    <tr style=\"text-align: right;\">\n",
       "      <th></th>\n",
       "      <th>paper_id</th>\n",
       "      <th>title</th>\n",
       "      <th>abstract</th>\n",
       "      <th>text</th>\n",
       "    </tr>\n",
       "  </thead>\n",
       "  <tbody>\n",
       "    <tr>\n",
       "      <th>0</th>\n",
       "      <td>0001418189999fea7f7cbe3e82703d71c85a6fe5</td>\n",
       "      <td>Absence of surface expression of feline infect...</td>\n",
       "      <td>Feline infectious peritonitis virus (FIPV) pos...</td>\n",
       "      <td>Feline infectious peritonitis (FIP) is a fatal...</td>\n",
       "    </tr>\n",
       "    <tr>\n",
       "      <th>1</th>\n",
       "      <td>0003793cf9e709bc2b9d0c8111186f78fb73fc04</td>\n",
       "      <td>Title: Rethinking high-risk groups in COVID-19</td>\n",
       "      <td></td>\n",
       "      <td>How do we protect our 'high-risk' patient popu...</td>\n",
       "    </tr>\n",
       "    <tr>\n",
       "      <th>2</th>\n",
       "      <td>000379d7a7f37a2ccb978862b9f2016bd03259ea</td>\n",
       "      <td>ScienceDirect ScienceDirect Effect of Nanomate...</td>\n",
       "      <td>approach. The NM shape in the conformal circui...</td>\n",
       "      <td>Integration of functional electronic devices o...</td>\n",
       "    </tr>\n",
       "    <tr>\n",
       "      <th>3</th>\n",
       "      <td>00039b94e6cb7609ecbddee1755314bcfeb77faa</td>\n",
       "      <td>Plasma inflammatory cytokines and chemokines i...</td>\n",
       "      <td>Severe acute respiratory syndrome (SARS) is a ...</td>\n",
       "      <td>Severe acute respiratory syndrome (SARS) is a ...</td>\n",
       "    </tr>\n",
       "    <tr>\n",
       "      <th>4</th>\n",
       "      <td>0003ddc51c4291d742855e9ac56076a3bea33ad7</td>\n",
       "      <td>Journal Pre-proofs The Fire This Time: The Str...</td>\n",
       "      <td></td>\n",
       "      <td>It is said that crisis reveals character. The ...</td>\n",
       "    </tr>\n",
       "  </tbody>\n",
       "</table>\n",
       "</div>"
      ],
      "text/plain": [
       "                                   paper_id  \\\n",
       "0  0001418189999fea7f7cbe3e82703d71c85a6fe5   \n",
       "1  0003793cf9e709bc2b9d0c8111186f78fb73fc04   \n",
       "2  000379d7a7f37a2ccb978862b9f2016bd03259ea   \n",
       "3  00039b94e6cb7609ecbddee1755314bcfeb77faa   \n",
       "4  0003ddc51c4291d742855e9ac56076a3bea33ad7   \n",
       "\n",
       "                                               title  \\\n",
       "0  Absence of surface expression of feline infect...   \n",
       "1     Title: Rethinking high-risk groups in COVID-19   \n",
       "2  ScienceDirect ScienceDirect Effect of Nanomate...   \n",
       "3  Plasma inflammatory cytokines and chemokines i...   \n",
       "4  Journal Pre-proofs The Fire This Time: The Str...   \n",
       "\n",
       "                                            abstract  \\\n",
       "0  Feline infectious peritonitis virus (FIPV) pos...   \n",
       "1                                                      \n",
       "2  approach. The NM shape in the conformal circui...   \n",
       "3  Severe acute respiratory syndrome (SARS) is a ...   \n",
       "4                                                      \n",
       "\n",
       "                                                text  \n",
       "0  Feline infectious peritonitis (FIP) is a fatal...  \n",
       "1  How do we protect our 'high-risk' patient popu...  \n",
       "2  Integration of functional electronic devices o...  \n",
       "3  Severe acute respiratory syndrome (SARS) is a ...  \n",
       "4  It is said that crisis reveals character. The ...  "
      ]
     },
     "execution_count": 6,
     "metadata": {},
     "output_type": "execute_result"
    }
   ],
   "source": [
    "print(len(covid_data['abstract']))\n",
    "covid19_df = pd.DataFrame(covid_data)\n",
    "covid19_df.head()"
   ]
  },
  {
   "cell_type": "code",
   "execution_count": 7,
   "metadata": {},
   "outputs": [
    {
     "data": {
      "text/plain": [
       "paper_id        0\n",
       "title        8527\n",
       "abstract    25461\n",
       "text            0\n",
       "dtype: int64"
      ]
     },
     "execution_count": 7,
     "metadata": {},
     "output_type": "execute_result"
    }
   ],
   "source": [
    "# Treating empty cells\n",
    "covid19_df['abstract'].replace('',np.nan,inplace=True)\n",
    "covid19_df['title'].replace('',np.nan,inplace=True)\n",
    "covid19_df['text'].replace('',np.nan,inplace=True)\n",
    "covid19_df['paper_id'].replace('',np.nan,inplace=True)\n",
    "covid19_df.head()\n",
    "covid19_df.isna().sum()"
   ]
  },
  {
   "cell_type": "code",
   "execution_count": 8,
   "metadata": {},
   "outputs": [
    {
     "name": "stdout",
     "output_type": "stream",
     "text": [
      "<class 'pandas.core.frame.DataFrame'>\n",
      "Int64Index: 53091 entries, 0 to 80743\n",
      "Data columns (total 4 columns):\n",
      "paper_id    53091 non-null object\n",
      "title       53091 non-null object\n",
      "abstract    53091 non-null object\n",
      "text        53091 non-null object\n",
      "dtypes: object(4)\n",
      "memory usage: 2.0+ MB\n"
     ]
    }
   ],
   "source": [
    "# Dropping Nan values\n",
    "covid19_df.dropna(inplace=True)\n",
    "covid19_df.isna().sum()\n",
    "covid19_df.info()"
   ]
  },
  {
   "cell_type": "code",
   "execution_count": 9,
   "metadata": {},
   "outputs": [],
   "source": [
    "# Identifying the language of the articles/data (only data in english is considered for analysis)\n",
    "languages = []\n",
    "remove = []\n",
    "from langdetect import detect, DetectorFactory\n",
    "for index in range(len(covid19_df)):\n",
    "    try:\n",
    "        DetectorFactory.seed=0\n",
    "        languages.append(detect(str(covid19_df['text'].iloc[index][:500])))\n",
    "    except:\n",
    "        languages.append(\"unrec\")\n",
    "        remove.append(index)\n",
    "        pass    "
   ]
  },
  {
   "cell_type": "code",
   "execution_count": 10,
   "metadata": {},
   "outputs": [
    {
     "name": "stdout",
     "output_type": "stream",
     "text": [
      "<class 'pandas.core.frame.DataFrame'>\n",
      "Int64Index: 53091 entries, 0 to 80743\n",
      "Data columns (total 4 columns):\n",
      "paper_id    53091 non-null object\n",
      "title       53091 non-null object\n",
      "abstract    53091 non-null object\n",
      "text        53091 non-null object\n",
      "dtypes: object(4)\n",
      "memory usage: 2.0+ MB\n"
     ]
    }
   ],
   "source": [
    "covid19_df.info()"
   ]
  },
  {
   "cell_type": "code",
   "execution_count": 11,
   "metadata": {},
   "outputs": [],
   "source": [
    "covid19_df['language'] = languages"
   ]
  },
  {
   "cell_type": "code",
   "execution_count": 12,
   "metadata": {},
   "outputs": [
    {
     "data": {
      "text/html": [
       "<div>\n",
       "<style scoped>\n",
       "    .dataframe tbody tr th:only-of-type {\n",
       "        vertical-align: middle;\n",
       "    }\n",
       "\n",
       "    .dataframe tbody tr th {\n",
       "        vertical-align: top;\n",
       "    }\n",
       "\n",
       "    .dataframe thead th {\n",
       "        text-align: right;\n",
       "    }\n",
       "</style>\n",
       "<table border=\"1\" class=\"dataframe\">\n",
       "  <thead>\n",
       "    <tr style=\"text-align: right;\">\n",
       "      <th></th>\n",
       "      <th>paper_id</th>\n",
       "      <th>title</th>\n",
       "      <th>abstract</th>\n",
       "      <th>text</th>\n",
       "      <th>language</th>\n",
       "    </tr>\n",
       "  </thead>\n",
       "  <tbody>\n",
       "    <tr>\n",
       "      <th>0</th>\n",
       "      <td>0001418189999fea7f7cbe3e82703d71c85a6fe5</td>\n",
       "      <td>Absence of surface expression of feline infect...</td>\n",
       "      <td>Feline infectious peritonitis virus (FIPV) pos...</td>\n",
       "      <td>Feline infectious peritonitis (FIP) is a fatal...</td>\n",
       "      <td>en</td>\n",
       "    </tr>\n",
       "    <tr>\n",
       "      <th>2</th>\n",
       "      <td>000379d7a7f37a2ccb978862b9f2016bd03259ea</td>\n",
       "      <td>ScienceDirect ScienceDirect Effect of Nanomate...</td>\n",
       "      <td>approach. The NM shape in the conformal circui...</td>\n",
       "      <td>Integration of functional electronic devices o...</td>\n",
       "      <td>en</td>\n",
       "    </tr>\n",
       "    <tr>\n",
       "      <th>3</th>\n",
       "      <td>00039b94e6cb7609ecbddee1755314bcfeb77faa</td>\n",
       "      <td>Plasma inflammatory cytokines and chemokines i...</td>\n",
       "      <td>Severe acute respiratory syndrome (SARS) is a ...</td>\n",
       "      <td>Severe acute respiratory syndrome (SARS) is a ...</td>\n",
       "      <td>en</td>\n",
       "    </tr>\n",
       "    <tr>\n",
       "      <th>8</th>\n",
       "      <td>00073cb65dd2596249230fab8b15a71c4a135895</td>\n",
       "      <td>Risk Parameters of Fulminant Acute Respiratory...</td>\n",
       "      <td>A clinical picture of patients with acute resp...</td>\n",
       "      <td>Since then, many clinical case reports have be...</td>\n",
       "      <td>en</td>\n",
       "    </tr>\n",
       "    <tr>\n",
       "      <th>10</th>\n",
       "      <td>0008c57de475138d903f2cca7003cf1e1ad93cf4</td>\n",
       "      <td>The effect of gramicidin inclusions on the loc...</td>\n",
       "      <td>We study the local effect of the antimicrobial...</td>\n",
       "      <td>The effect on the cell membrane of inclusions ...</td>\n",
       "      <td>en</td>\n",
       "    </tr>\n",
       "  </tbody>\n",
       "</table>\n",
       "</div>"
      ],
      "text/plain": [
       "                                    paper_id  \\\n",
       "0   0001418189999fea7f7cbe3e82703d71c85a6fe5   \n",
       "2   000379d7a7f37a2ccb978862b9f2016bd03259ea   \n",
       "3   00039b94e6cb7609ecbddee1755314bcfeb77faa   \n",
       "8   00073cb65dd2596249230fab8b15a71c4a135895   \n",
       "10  0008c57de475138d903f2cca7003cf1e1ad93cf4   \n",
       "\n",
       "                                                title  \\\n",
       "0   Absence of surface expression of feline infect...   \n",
       "2   ScienceDirect ScienceDirect Effect of Nanomate...   \n",
       "3   Plasma inflammatory cytokines and chemokines i...   \n",
       "8   Risk Parameters of Fulminant Acute Respiratory...   \n",
       "10  The effect of gramicidin inclusions on the loc...   \n",
       "\n",
       "                                             abstract  \\\n",
       "0   Feline infectious peritonitis virus (FIPV) pos...   \n",
       "2   approach. The NM shape in the conformal circui...   \n",
       "3   Severe acute respiratory syndrome (SARS) is a ...   \n",
       "8   A clinical picture of patients with acute resp...   \n",
       "10  We study the local effect of the antimicrobial...   \n",
       "\n",
       "                                                 text language  \n",
       "0   Feline infectious peritonitis (FIP) is a fatal...       en  \n",
       "2   Integration of functional electronic devices o...       en  \n",
       "3   Severe acute respiratory syndrome (SARS) is a ...       en  \n",
       "8   Since then, many clinical case reports have be...       en  \n",
       "10  The effect on the cell membrane of inclusions ...       en  "
      ]
     },
     "execution_count": 12,
     "metadata": {},
     "output_type": "execute_result"
    }
   ],
   "source": [
    "covid19_df.head()"
   ]
  },
  {
   "cell_type": "code",
   "execution_count": 13,
   "metadata": {},
   "outputs": [
    {
     "data": {
      "text/plain": [
       "en       52192\n",
       "de         300\n",
       "fr         231\n",
       "es         200\n",
       "nl         101\n",
       "it          35\n",
       "pt          11\n",
       "unrec        5\n",
       "ca           3\n",
       "cy           3\n",
       "pl           3\n",
       "tl           1\n",
       "ko           1\n",
       "id           1\n",
       "zh-cn        1\n",
       "sv           1\n",
       "ru           1\n",
       "af           1\n",
       "Name: language, dtype: int64"
      ]
     },
     "execution_count": 13,
     "metadata": {},
     "output_type": "execute_result"
    }
   ],
   "source": [
    "covid19_df['language'].value_counts()"
   ]
  },
  {
   "cell_type": "code",
   "execution_count": 14,
   "metadata": {},
   "outputs": [],
   "source": [
    "# Considering only those articles that are in english\n",
    "covid19_df = covid19_df[covid19_df['language'] == 'en']"
   ]
  },
  {
   "cell_type": "code",
   "execution_count": 15,
   "metadata": {},
   "outputs": [],
   "source": [
    "def decontracted(phrase):\n",
    "    # specific\n",
    "    phrase = re.sub(r\"won't\", \"will not\", phrase)\n",
    "    phrase = re.sub(r\"can\\'t\", \"can not\", phrase)\n",
    "\n",
    "    # general\n",
    "    phrase = re.sub(r\"n\\'t\", \" not\", phrase)\n",
    "    phrase = re.sub(r\"\\'re\", \" are\", phrase)\n",
    "    phrase = re.sub(r\"\\'s\", \" is\", phrase)\n",
    "    phrase = re.sub(r\"\\'d\", \" would\", phrase)\n",
    "    phrase = re.sub(r\"\\'ll\", \" will\", phrase)\n",
    "    phrase = re.sub(r\"\\'t\", \" not\", phrase)\n",
    "    phrase = re.sub(r\"\\'ve\", \" have\", phrase)\n",
    "    phrase = re.sub(r\"\\'m\", \" am\", phrase)\n",
    "    return phrase"
   ]
  },
  {
   "cell_type": "code",
   "execution_count": 16,
   "metadata": {},
   "outputs": [],
   "source": [
    "stopwords= ['i', 'me', 'my', 'myself', 'we', 'our', 'ours', 'ourselves', 'you', \"you're\", \"you've\",\\\n",
    "            \"you'll\", \"you'd\", 'your', 'yours', 'yourself', 'yourselves', 'he', 'him', 'his', 'himself', \\\n",
    "            'she', \"she's\", 'her', 'hers', 'herself', 'it', \"it's\", 'its', 'itself', 'they', 'them', 'their',\\\n",
    "            'theirs', 'themselves', 'what', 'which', 'who', 'whom', 'this', 'that', \"that'll\", 'these', 'those', \\\n",
    "            'am', 'is', 'are', 'was', 'were', 'be', 'been', 'being', 'have', 'has', 'had', 'having', 'do', 'does', \\\n",
    "            'did', 'doing', 'a', 'an', 'the', 'and', 'but', 'if', 'or', 'because', 'as', 'until', 'while', 'of', \\\n",
    "            'at', 'by', 'for', 'with', 'about', 'against', 'between', 'into', 'through', 'during', 'before', 'after',\\\n",
    "            'above', 'below', 'to', 'from', 'up', 'down', 'in', 'out', 'on', 'off', 'over', 'under', 'again', 'further',\\\n",
    "            'then', 'once', 'here', 'there', 'when', 'where', 'why', 'how', 'all', 'any', 'both', 'each', 'few', 'more',\\\n",
    "            'most', 'other', 'some', 'such', 'only', 'own', 'same', 'so', 'than', 'too', 'very', \\\n",
    "            's', 't', 'can', 'will', 'just', 'don', \"don't\", 'should', \"should've\", 'now', 'd', 'll', 'm', 'o', 're', \\\n",
    "            've', 'y', 'ain', 'aren', \"aren't\", 'couldn', \"couldn't\", 'didn', \"didn't\", 'doesn', \"doesn't\", 'hadn',\\\n",
    "            \"hadn't\", 'hasn', \"hasn't\", 'haven', \"haven't\", 'isn', \"isn't\", 'ma', 'mightn', \"mightn't\", 'mustn',\\\n",
    "            \"mustn't\", 'needn', \"needn't\", 'shan', \"shan't\", 'shouldn', \"shouldn't\", 'wasn', \"wasn't\", 'weren', \"weren't\", \\\n",
    "            'won', \"won't\", 'wouldn', \"wouldn't\", 'doi', 'preprint', 'copyright', 'peer', 'reviewed', 'org', 'https', 'et', \\\n",
    "            'al', 'author', 'figure', 'rights', 'reserved', 'permission', 'used', 'using', 'biorxiv', 'medrxiv', 'license', 'fig', \\\n",
    "            'fig.', 'al.', 'Elsevier', 'PMC', 'CZI', 'www']"
   ]
  },
  {
   "cell_type": "code",
   "execution_count": 17,
   "metadata": {},
   "outputs": [],
   "source": [
    "# The function performs preprocessing on the data\n",
    "def preprocess_text(text_data):\n",
    "    preprocessed_text = []\n",
    "    # tqdm is for printing the status bar\n",
    "    for sentance in tqdm(text_data):\n",
    "        sent = decontracted(sentance)\n",
    "        sent = sent.replace('\\\\r', ' ')\n",
    "        sent = sent.replace('\\\\n', ' ')\n",
    "        sent = sent.replace('\\\\\"', ' ')\n",
    "        sent = re.sub(\"[\\(\\[].*?[\\)\\]]\", \"\", sent)\n",
    "        sent = re.sub('[^A-Za-z0-9]+', ' ', sent)\n",
    "        # https://gist.github.com/sebleier/554280\n",
    "        sent = ' '.join(e for e in sent.split() if e.lower() not in stopwords)\n",
    "        preprocessed_text.append(sent.lower().strip())\n",
    "    return preprocessed_text"
   ]
  },
  {
   "cell_type": "code",
   "execution_count": 18,
   "metadata": {},
   "outputs": [
    {
     "name": "stderr",
     "output_type": "stream",
     "text": [
      "100%|██████████| 52192/52192 [17:09<00:00, 50.71it/s] \n"
     ]
    }
   ],
   "source": [
    "# Performing preprocessing on the text column(i.e. actual data)\n",
    "preprocessed_text = preprocess_text(covid19_df['text'].values)"
   ]
  },
  {
   "cell_type": "code",
   "execution_count": 19,
   "metadata": {},
   "outputs": [],
   "source": [
    "covid19_df['preprocessed_text'] = preprocessed_text"
   ]
  },
  {
   "cell_type": "code",
   "execution_count": 20,
   "metadata": {},
   "outputs": [
    {
     "name": "stdout",
     "output_type": "stream",
     "text": [
      "<class 'pandas.core.frame.DataFrame'>\n",
      "Int64Index: 52192 entries, 0 to 80743\n",
      "Data columns (total 6 columns):\n",
      "paper_id             52192 non-null object\n",
      "title                52192 non-null object\n",
      "abstract             52192 non-null object\n",
      "text                 52192 non-null object\n",
      "language             52192 non-null object\n",
      "preprocessed_text    52192 non-null object\n",
      "dtypes: object(6)\n",
      "memory usage: 2.8+ MB\n"
     ]
    }
   ],
   "source": [
    "covid19_df.info()"
   ]
  },
  {
   "cell_type": "code",
   "execution_count": 21,
   "metadata": {},
   "outputs": [],
   "source": [
    "# Saving dataframe to csv to prevent repeated processing\n",
    "covid19_df.to_csv('preprocessed_covi19_data.csv')"
   ]
  },
  {
   "cell_type": "code",
   "execution_count": 19,
   "metadata": {},
   "outputs": [],
   "source": [
    "# Reading from csv\n",
    "covid19_df = pd.read_csv('preprocessed_covi19_data.csv')"
   ]
  },
  {
   "cell_type": "code",
   "execution_count": 20,
   "metadata": {},
   "outputs": [
    {
     "name": "stdout",
     "output_type": "stream",
     "text": [
      "<class 'pandas.core.frame.DataFrame'>\n",
      "RangeIndex: 10000 entries, 0 to 9999\n",
      "Data columns (total 7 columns):\n",
      "Unnamed: 0           10000 non-null int64\n",
      "paper_id             10000 non-null object\n",
      "title                10000 non-null object\n",
      "abstract             10000 non-null object\n",
      "text                 10000 non-null object\n",
      "language             10000 non-null object\n",
      "preprocessed_text    10000 non-null object\n",
      "dtypes: int64(1), object(6)\n",
      "memory usage: 547.0+ KB\n",
      "10000\n"
     ]
    }
   ],
   "source": [
    "#Taking only a subset of data(i.e.10000 research articles) because of memory limitations\n",
    "covid19_df_subset = covid19_df[:10000] \n",
    "covid19_df_subset.info()\n",
    "c_data = covid19_df_subset['preprocessed_text'].values\n",
    "print(len(c_data))"
   ]
  },
  {
   "cell_type": "code",
   "execution_count": 21,
   "metadata": {},
   "outputs": [],
   "source": [
    "c_title = covid19_df_subset['title'].values"
   ]
  },
  {
   "cell_type": "code",
   "execution_count": 22,
   "metadata": {},
   "outputs": [
    {
     "name": "stdout",
     "output_type": "stream",
     "text": [
      "Data shape: (10000, 10000)\n"
     ]
    }
   ],
   "source": [
    "# Using TFIDF vectorizer for converting text to vectors(considering only 10000 features because of memory limitations)\n",
    "vectorizer_tfidf = TfidfVectorizer(max_features=10000)\n",
    "vectorizer_tfidf.fit(c_data)\n",
    "covid_tfidf_text = vectorizer_tfidf.transform(c_data)\n",
    "print(\"Data shape:\",covid_tfidf_text.shape)"
   ]
  },
  {
   "cell_type": "code",
   "execution_count": 23,
   "metadata": {
    "scrolled": true
   },
   "outputs": [
    {
     "name": "stdout",
     "output_type": "stream",
     "text": [
      "<class 'scipy.sparse.csr.csr_matrix'>\n"
     ]
    }
   ],
   "source": [
    "print(type(covid_tfidf_text))"
   ]
  },
  {
   "cell_type": "code",
   "execution_count": 24,
   "metadata": {},
   "outputs": [
    {
     "data": {
      "text/plain": [
       "(10000, 6202)"
      ]
     },
     "execution_count": 24,
     "metadata": {},
     "output_type": "execute_result"
    }
   ],
   "source": [
    "# Implementing PCA for dimensionality reduction\n",
    "pca = PCA(n_components=0.99,svd_solver='full',random_state=42)\n",
    "covid_tfidf_pca= pca.fit_transform(covid_tfidf_text.toarray())\n",
    "covid_tfidf_pca.shape"
   ]
  },
  {
   "cell_type": "code",
   "execution_count": 26,
   "metadata": {},
   "outputs": [],
   "source": [
    "#Ref: https://medium.com/analytics-vidhya/how-to-determine-the-optimal-k-for-k-means-708505d204eb\n",
    "\n",
    "# Finding the optimal values of k using Silhouette Score as a metric\n",
    "sil_score = []\n",
    "for k in tqdm(range(2,101)):\n",
    "    kmeans = KMeans(n_clusters = k).fit(covid_tfidf_pca)\n",
    "    labels = kmeans.labels_\n",
    "    sil_score.append(silhouette_score(covid_tfidf_pca, labels, metric = 'euclidean'))    "
   ]
  },
  {
   "cell_type": "code",
   "execution_count": 13,
   "metadata": {},
   "outputs": [
    {
     "data": {
      "image/png": "[encoded data removed]",
      "text/plain": [
       "<Figure size 432x288 with 1 Axes>"
      ]
     },
     "metadata": {
      "needs_background": "light"
     },
     "output_type": "display_data"
    }
   ],
   "source": [
    "# Plotting the results\n",
    "plt.plot(range(2,101),sil_score,label=\"Silhouette Score\")\n",
    "plt.scatter(range(2,101),sil_score,label=\"Silhouette Score\")\n",
    "plt.title(\"K Vs. Silhouette Score\")\n",
    "plt.grid()\n",
    "plt.xlabel(\"K\")\n",
    "plt.ylabel(\"Silhouette Score\")\n",
    "plt.legend()\n",
    "plt.show()"
   ]
  },
  {
   "cell_type": "code",
   "execution_count": 10,
   "metadata": {},
   "outputs": [],
   "source": [
    "c_orig_text = covid19_df_subset['text'].values"
   ]
  },
  {
   "cell_type": "code",
   "execution_count": 11,
   "metadata": {},
   "outputs": [],
   "source": [
    "# Implementing K-means clustering\n",
    "k = 98 # The optimal value of k (look at the plot)\n",
    "kmeans = KMeans(n_clusters=k, random_state=2)\n",
    "y_pred = kmeans.fit_predict(covid_tfidf_pca)"
   ]
  },
  {
   "cell_type": "code",
   "execution_count": 12,
   "metadata": {},
   "outputs": [
    {
     "name": "stdout",
     "output_type": "stream",
     "text": [
      "<class 'pandas.core.frame.DataFrame'>\n",
      "RangeIndex: 10000 entries, 0 to 9999\n",
      "Data columns (total 4 columns):\n",
      "Title            10000 non-null object\n",
      "Text             10000 non-null object\n",
      "Original text    10000 non-null object\n",
      "Cluster          10000 non-null int64\n",
      "dtypes: int64(1), object(3)\n",
      "memory usage: 312.6+ KB\n"
     ]
    }
   ],
   "source": [
    "# Creating dataframe containg: Title of research paper,text in research paper, Cluster Number that the paper was assigned to.\n",
    "ypred = list(y_pred)\n",
    "cluster_df = pd.DataFrame(list(zip(c_title,c_data,c_orig_text,ypred)),columns=['Title','Text','Original text','Cluster'])\n",
    "cluster_df.info()"
   ]
  },
  {
   "cell_type": "code",
   "execution_count": 13,
   "metadata": {},
   "outputs": [],
   "source": [
    "# Organise the dataframe based on cluster\n",
    "sort_df_by_cluster = cluster_df.sort_values('Cluster')"
   ]
  },
  {
   "cell_type": "code",
   "execution_count": 14,
   "metadata": {},
   "outputs": [],
   "source": [
    "# Save the cluster dataframe to prevent repeated processing\n",
    "sort_df_by_cluster.to_csv('cluster_df_10000.csv')"
   ]
  },
  {
   "cell_type": "code",
   "execution_count": 3,
   "metadata": {},
   "outputs": [
    {
     "name": "stdout",
     "output_type": "stream",
     "text": [
      "<class 'pandas.core.frame.DataFrame'>\n",
      "RangeIndex: 10000 entries, 0 to 9999\n",
      "Data columns (total 5 columns):\n",
      "Unnamed: 0       10000 non-null int64\n",
      "Title            10000 non-null object\n",
      "Text             10000 non-null object\n",
      "Original text    10000 non-null object\n",
      "Cluster          10000 non-null int64\n",
      "dtypes: int64(2), object(3)\n",
      "memory usage: 390.7+ KB\n"
     ]
    }
   ],
   "source": [
    "# Retrieve from cluster csv file\n",
    "sort_df_by_cluster = pd.read_csv('cluster_df_10000.csv')\n",
    "sort_df_by_cluster.info()"
   ]
  },
  {
   "cell_type": "code",
   "execution_count": 4,
   "metadata": {},
   "outputs": [
    {
     "name": "stdout",
     "output_type": "stream",
     "text": [
      "17    691\n",
      "62    436\n",
      "40    325\n",
      "22    272\n",
      "78    271\n",
      "27    246\n",
      "69    242\n",
      "61    239\n",
      "5     237\n",
      "85    227\n",
      "72    195\n",
      "96    185\n",
      "3     182\n",
      "55    181\n",
      "87    175\n",
      "74    171\n",
      "24    159\n",
      "11    153\n",
      "50    147\n",
      "90    145\n",
      "37    143\n",
      "23    139\n",
      "19    138\n",
      "56    138\n",
      "1     134\n",
      "75    122\n",
      "66    122\n",
      "71    122\n",
      "33    121\n",
      "26    121\n",
      "     ... \n",
      "38     48\n",
      "83     48\n",
      "18     44\n",
      "48     44\n",
      "65     41\n",
      "76     40\n",
      "8      39\n",
      "95     39\n",
      "6      39\n",
      "82     35\n",
      "15     35\n",
      "44     34\n",
      "81     32\n",
      "47     30\n",
      "35     30\n",
      "77     30\n",
      "12     27\n",
      "20     27\n",
      "97     23\n",
      "0      22\n",
      "93     21\n",
      "45     21\n",
      "73     20\n",
      "10     19\n",
      "68     18\n",
      "9      15\n",
      "60     13\n",
      "7      13\n",
      "14     12\n",
      "94     11\n",
      "Name: Cluster, Length: 98, dtype: int64\n"
     ]
    }
   ],
   "source": [
    "print(sort_df_by_cluster['Cluster'].value_counts())"
   ]
  },
  {
   "cell_type": "code",
   "execution_count": 5,
   "metadata": {},
   "outputs": [],
   "source": [
    "wordcloud_stopwords = ['i', 'me', 'my', 'myself', 'we', 'our', 'ours', 'ourselves', 'you', \"you're\", \"you've\",\\\n",
    "                       \"you'll\", \"you'd\", 'your', 'yours', 'yourself', 'yourselves', 'he', 'him', 'his', 'himself', \\\n",
    "                       'she', \"she's\", 'her', 'hers', 'herself', 'it', \"it's\", 'its', 'itself', 'they', 'them', 'their',\\\n",
    "                       'theirs', 'themselves', 'what', 'which', 'who', 'whom', 'this', 'that', \"that'll\", 'these', 'those', \\\n",
    "                       'am', 'is', 'are', 'was', 'were', 'be', 'been', 'being', 'have', 'has', 'had', 'having', 'do', 'does', \\\n",
    "                       'did', 'doing', 'a', 'an', 'the', 'and', 'but', 'if', 'or', 'because', 'as', 'until', 'while', 'of', \\\n",
    "                       'at', 'by', 'for', 'with', 'about', 'against', 'between', 'into', 'through', 'during', 'before', 'after',\\\n",
    "                       'above', 'below', 'to', 'from', 'up', 'down', 'in', 'out', 'on', 'off', 'over', 'under', 'again', 'further',\\\n",
    "                       'then', 'once', 'here', 'there', 'when', 'where', 'why', 'how', 'all', 'any', 'both', 'each', 'few', 'more',\\\n",
    "                       'most', 'other', 'some', 'such', 'only', 'own', 'same', 'so', 'than', 'too', 'very', \\\n",
    "                       's', 't', 'can', 'will', 'just', 'don', \"don't\", 'should', \"should've\", 'now', 'd', 'll', 'm', 'o', 're', \\\n",
    "                       've', 'y', 'ain', 'aren', \"aren't\", 'couldn', \"couldn't\", 'didn', \"didn't\", 'doesn', \"doesn't\", 'hadn',\\\n",
    "                       \"hadn't\", 'hasn', \"hasn't\", 'haven', \"haven't\", 'isn', \"isn't\", 'ma', 'mightn', \"mightn't\", 'mustn',\\\n",
    "                       \"mustn't\", 'needn', \"needn't\", 'shan', \"shan't\", 'shouldn', \"shouldn't\", 'wasn', \"wasn't\", 'weren', \"weren't\", \\\n",
    "                       'won', \"won't\", 'wouldn', \"wouldn't\", 'doi', 'preprint', 'copyright', 'peer', 'reviewed', 'org', 'https', 'et', \\\n",
    "                       'al', 'author', 'figure', 'rights', 'reserved', 'permission', 'used', 'using', 'biorxiv', 'medrxiv', 'license', 'fig', \\\n",
    "                       'fig.', 'al.', 'Elsevier', 'PMC', 'CZI', 'www', 'also', 'may', 'based', 'not', 'first', 'method', 'one', 'two', 'case', 'well', \\\n",
    "                       'could', 'shown', 'might', 'would']"
   ]
  },
  {
   "cell_type": "code",
   "execution_count": 17,
   "metadata": {},
   "outputs": [
    {
     "data": {
      "image/png": "[encoded data removed]",
      "text/plain": [
       "<Figure size 432x288 with 1 Axes>"
      ]
     },
     "metadata": {
      "needs_background": "light"
     },
     "output_type": "display_data"
    }
   ],
   "source": [
    "# Implementing WordCloud for each cluster to give user an idea about the cluster text\n",
    "for j in range(0,1):\n",
    "    text = \" \".join(each for each in sort_df_by_cluster[sort_df_by_cluster[\"Cluster\"]==j][\"Original text\"].values)    \n",
    "    wordcloud = WordCloud(stopwords=wordcloud_stopwords, background_color=\"white\").generate(text)\n",
    "    wc_file = \"/home/jayesh/Documents/wordcloud/Cluster_{}_WC.png\".format(j)\n",
    "    plt.imshow(wordcloud, interpolation='bilinear')\n",
    "    plt.axis(\"off\")\n",
    "    plt.show()\n",
    "    wordcloud.to_file(wc_file)    \n",
    "    \n",
    "## Output is shown for one cluster"
   ]
  },
  {
   "cell_type": "code",
   "execution_count": 8,
   "metadata": {},
   "outputs": [],
   "source": [
    "# Function to delete stopwords from text\n",
    "def stopwords_delete(word_list):\n",
    "    sent_pp = \" \".join([word for word in word_list if word not in stopwords])\n",
    "    return sent_pp"
   ]
  },
  {
   "cell_type": "code",
   "execution_count": 12,
   "metadata": {},
   "outputs": [
    {
     "name": "stdout",
     "output_type": "stream",
     "text": [
      "<class 'scipy.sparse.csr.csr_matrix'>\n",
      "(5237, 100)\n",
      "+---+--------------------+--------------------+\n",
      "| id|               title|            Sentence|\n",
      "+---+--------------------+--------------------+\n",
      "|  0|Production of vir...|The vast majority...|\n",
      "|  1|Production of vir...|These types of va...|\n",
      "|  2|Production of vir...|Nevertheless, att...|\n",
      "|  3|Production of vir...|Newer generation ...|\n",
      "|  4|Production of vir...|                1) .|\n",
      "|  5|Production of vir...|Subunit vaccines ...|\n",
      "|  6|Production of vir...|DNA vaccination i...|\n",
      "|  7|Production of vir...|Virus-like partic...|\n",
      "|  8|Production of vir...|They are composed...|\n",
      "|  9|Production of vir...|VLPs are unable t...|\n",
      "| 10|Production of vir...|Due to the advant...|\n",
      "| 11|Production of vir...|                2) .|\n",
      "| 12|Production of vir...|Virus-like partic...|\n",
      "| 13|Production of vir...|The proteins can ...|\n",
      "| 14|Production of vir...|In the case of hu...|\n",
      "| 15|Production of vir...|Other more comple...|\n",
      "| 16|Production of vir...|VLPs of the Reovi...|\n",
      "| 17|Production of vir...|VLPs can also hav...|\n",
      "| 18|Production of vir...|In this case, the...|\n",
      "| 19|Production of vir...|This is the case ...|\n",
      "+---+--------------------+--------------------+\n",
      "only showing top 20 rows\n",
      "\n",
      "+---+---+------------------+\n",
      "|src|dst|        similarity|\n",
      "+---+---+------------------+\n",
      "|  0|  1|  0.83162355589481|\n",
      "|  0|  2|0.8021312720125737|\n",
      "|  0|  3|0.8277568501555843|\n",
      "|  0|  6|0.8037042707625544|\n",
      "|  0|  9|0.8266916117258507|\n",
      "|  0| 36|0.8042908034500285|\n",
      "|  0| 42|0.8103462742701699|\n",
      "|  0| 59|0.8248094867027516|\n",
      "|  0| 60|0.8451042401738474|\n",
      "|  0| 70|0.8225852019446199|\n",
      "|  0|128|0.8156691571338602|\n",
      "|  0|145|0.8985750301198612|\n",
      "|  0|174|0.8467412680968914|\n",
      "|  0|175| 0.863511304395737|\n",
      "|  0|176|0.8521519885897443|\n",
      "|  0|183|0.8064505373900303|\n",
      "|  0|200|0.8429102163989821|\n",
      "|  0|202|0.8122688788255709|\n",
      "|  0|204| 0.817115883797982|\n",
      "|  0|207|0.8454931838005826|\n",
      "+---+---+------------------+\n",
      "only showing top 20 rows\n",
      "\n",
      "+----+--------------------+--------------------+-------------------+\n",
      "|  id|               title|            Sentence|           pagerank|\n",
      "+----+--------------------+--------------------+-------------------+\n",
      "|4904|Chimeric coronavi...|Consistent with t...|0.44167695468747736|\n",
      "|4552|Journal Pre-proof...|In section 2.5, w...| 0.8581106600551062|\n",
      "|3456|Progress in the d...|Another important...|  1.038614427563585|\n",
      "|4680|Chimeric coronavi...|SARS originated i...| 1.0471801564357208|\n",
      "|1080|Co-expression vs....|polh: polyhedrin ...| 1.0528104162350507|\n",
      "| 320|Marburg virus-lik...|         7b and d) .| 1.0528104162350507|\n",
      "| 752|Investigating Tic...|Flaviviruses are ...| 0.1579223657080732|\n",
      "|3272|Identifying SARS-...|Since M+N VLP ass...| 1.1849897617600338|\n",
      "| 408|Use of baculoviru...|Based on the prin...| 1.2791746607705752|\n",
      "|4352|Journal Pre-proof...|For instance, the...|  1.498555326242391|\n",
      "|1840|A Chimeric Sudan ...|Error bars repres...| 0.1716069427068786|\n",
      "|4960|A replication-inc...|1C, right panel, ...| 1.0528104162350507|\n",
      "|1328|Co-expression vs....|These have includ...|  1.208112840610344|\n",
      "| 464|Use of baculoviru...|The MultiBac syst...|0.24783948432615227|\n",
      "|1976|Codelivery of imp...|The plate was dev...|0.33080599587645787|\n",
      "|1040|Co-expression vs....|For example, the ...| 1.3969882696353484|\n",
      "|1336|Co-expression vs....|The primary means...| 1.1561643439669589|\n",
      "|  24|Production of vir...|Their structure i...|  1.580770500009914|\n",
      "| 520|Use of baculoviru...|Simian virus 40 V...| 1.4909763440930923|\n",
      "| 912|Neuraminidase act...|It is important t...|  2.846793768463646|\n",
      "+----+--------------------+--------------------+-------------------+\n",
      "only showing top 20 rows\n",
      "\n"
     ]
    }
   ],
   "source": [
    "# Ref: https://www.analyticsvidhya.com/blog/2018/11/introduction-text-summarization-textrank-python/\n",
    "\n",
    "# This code segment perform text summarization for each cluster using TextRank algorithm \n",
    "\n",
    "cluster_wise_sen = {}\n",
    "cluster_list = [0] # List of clusters for which user want to run TextRank algorithm (Input the cluster number in this list separated by comma)\n",
    "\n",
    "for i in cluster_list: # for each cluster\n",
    "    #Using Spark to speed up the computation    \n",
    "    sc = SparkSession.builder.master(\"local[*]\").appName(\"spark session example\").config(\"spark.driver.memory\", \"4g\").config(\"spark.executor.memory\", \"4g\").getOrCreate()\n",
    "    sentences = []\n",
    "    tagged_sentences = []\n",
    "    sentence_in_vector = []\n",
    "    ranked_sentences = []\n",
    "    \n",
    "# Performing sentence tokenizer to break the text into sentences and tag it with its paper title    \n",
    "    for s in zip(sort_df_by_cluster[sort_df_by_cluster['Cluster']==i]['Original text'].values,sort_df_by_cluster[sort_df_by_cluster['Cluster']==i]['Title'].values):\n",
    "        t = sent_tokenize(s[0])\n",
    "        t = [(each,s[1]) for each in t]\n",
    "        tagged_sentences.append(t)\n",
    "    tagged_sentences = [y for x in tagged_sentences for y in x]\n",
    "    sentences = [each[0] for each in tagged_sentences]\n",
    "       \n",
    "# Performing basic preprocessing on the entire clustered text     \n",
    "    preprocessed_sentences = pd.Series(sentences).str.replace(\"[^A-Za-z0-9]+\", \" \")\n",
    "    preprocessed_sentences = [s.lower() for s in preprocessed_sentences]\n",
    "    preprocessed_sentences = [stopwords_delete(each.split()) for each in preprocessed_sentences]\n",
    "       \n",
    "# Converting text to vector using Glove word embeddings    \n",
    "    for each_line in preprocessed_sentences:\n",
    "        if len(each_line) != 0:\n",
    "            sen_vec = sum([word_embeddings.get(i, np.zeros((100,))) for i in each_line.split()])/(len(each_line.split())+0.001)\n",
    "        else:\n",
    "            sen_vec = np.zeros((100,))\n",
    "        sentence_in_vector.append(sen_vec)\n",
    "    \n",
    "# Computing similarity score for sentences and implementing PageRank(i.e.TextRank) algorithm to get top ranked sentences   \n",
    "    final_rdd =  similarity_score_calculation(sentence_in_vector) # RDD containing the similarity scores for sentences\n",
    "    lst_sent = [(i,s[1],s[0]) for i,s in enumerate(tagged_sentences)]\n",
    "    vertices = sc.createDataFrame(lst_sent,['id', 'title', 'Sentence']) # Vertices dataframe\n",
    "    edges = sc.createDataFrame(final_rdd,['src', 'dst','similarity'])   # Edges dataframe\n",
    "    g = GraphFrame(vertices, edges) # Creating graph from vertices and edges\n",
    "    g.vertices.show() \n",
    "    g.edges.show()\n",
    "    g.persist(StorageLevel.MEMORY_AND_DISK)\n",
    "    pr = g.pageRank(tol=0.000001) # Implementing pagerank algorithm on the graph to compute pagerank score\n",
    "    pr.vertices.show()\n",
    "    filename = \"Cluster_{}_IE.csv\".format(i) \n",
    "    pr.vertices.coalesce(1).orderBy(\"pagerank\", ascending=False).write.option(\"header\",\"true\").option(\"sep\",\",\").mode(\"overwrite\").csv(filename) # Saving result to file\n",
    "    t = []\n",
    "    sc.stop\n",
    "    \n",
    "## The output is shown for one cluster"
   ]
  },
  {
   "cell_type": "code",
   "execution_count": 9,
   "metadata": {},
   "outputs": [],
   "source": [
    "# Structure of glove file(word followed by its vector representation)\n",
    "word_embeddings = {}\n",
    "f = open('glove.6B.100d.txt', encoding='utf-8')\n",
    "for line in f:\n",
    "    values = line.split()\n",
    "    word = values[0]\n",
    "    coefs = np.asarray(values[1:], dtype='float32')\n",
    "    word_embeddings[word] = coefs\n",
    "f.close()"
   ]
  },
  {
   "cell_type": "code",
   "execution_count": 10,
   "metadata": {},
   "outputs": [],
   "source": [
    "# Ref: https://medium.com/@rantav/large-scale-matrix-multiplication-with-pyspark-or-how-to-match-two-large-datasets-of-company-1be4b1b2871e\n",
    "\n",
    "# Function to parallelize the matrix (Use the link above for detailed explanation)\n",
    "def parallelize_matrix(matrix, rows_per_group=100):\n",
    "    [rows, cols] = matrix.shape\n",
    "    i = 0\n",
    "    submatrices = []\n",
    "    while i < rows:\n",
    "        group_size = min(rows_per_group, rows - i)\n",
    "        submatrix = matrix[i:i + group_size]\n",
    "        submatrices.append((i, (submatrix.data, submatrix.indices, \n",
    "                                submatrix.indptr),\n",
    "                            (group_size, cols)))\n",
    "        i += group_size\n",
    "    return sc.sparkContext.parallelize(submatrices)\n",
    "\n",
    "# Function to broadcast the matrix (Use the link above for detailed explanation)\n",
    "def broadcast_matrix(matrix):\n",
    "    bcast = sc.sparkContext.broadcast((matrix.data, matrix.indices, matrix.indptr))\n",
    "    (data, indices, indptr) = bcast.value\n",
    "    bcast_matrix = csr_matrix((data, indices, indptr), shape=matrix.shape)\n",
    "    return bcast_matrix\n",
    "\n",
    "# Function to compute cosine similarity scores\n",
    "def cosimilarity_in_submatrix(submatrix, fullmatrix, submatrix_start_index,\n",
    "                              threshold=0):\n",
    "    cosimilarities = cosine_similarity(submatrix, fullmatrix)\n",
    "    return list(cosimilarities)"
   ]
  },
  {
   "cell_type": "code",
   "execution_count": 11,
   "metadata": {},
   "outputs": [],
   "source": [
    "# Convert to float\n",
    "def convert(x):\n",
    "    lst = [float(item) for item in x[0]]\n",
    "    return (x[1],lst)\n",
    "\n",
    "# This is required to convert each item to form: (source_vertex,destination_vertex,similarity_score),look at the format of edges dataframe\n",
    "def transform(index,x):\n",
    "    j = 0\n",
    "    lst = []\n",
    "    for each in x:\n",
    "        lst.append((index,j,each))\n",
    "        j = j+1\n",
    "    return lst    \n",
    "\n",
    "# Computing cosine similarity scores for sentence in a distributed manner using Spark for fast computation\n",
    "def similarity_score_calculation(sentence_in_vector):\n",
    "    cluster_summary_dict = {}\n",
    "    cluster_matrix = np.asmatrix(sentence_in_vector)\n",
    "    cluster_matrix = sparse.csr_matrix(cluster_matrix)\n",
    "    print(type(cluster_matrix))\n",
    "    print(cluster_matrix.shape)\n",
    "    shp = cluster_matrix.shape[0]\n",
    "    parallelized_cluster_matrix = parallelize_matrix(cluster_matrix, rows_per_group=100)\n",
    "    broadcasted_cluster_matrix = broadcast_matrix(cluster_matrix)\n",
    "    result = parallelized_cluster_matrix.flatMap(\n",
    "            lambda submatrix:\n",
    "            list(cosimilarity_in_submatrix(csr_matrix(submatrix[1],\n",
    "                                                 shape=submatrix[2]),\n",
    "                                       broadcasted_cluster_matrix,\n",
    "                                       submatrix[0])))\n",
    "    new_result = result.map(lambda x: list(x))\n",
    "    nn_result = new_result.zipWithIndex().map(lambda x: convert(x))\n",
    "    nng_result = nn_result.flatMap(lambda x:transform(x[0],x[1]))\n",
    "    final_rdd = nng_result.filter(lambda x: x[2] >= 0.8 and x[0]!=x[1])\n",
    "        \n",
    "    return final_rdd"
   ]
  }
 ],
 "metadata": {
  "kernelspec": {
   "display_name": "Python 3",
   "language": "python",
   "name": "python3"
  },
  "language_info": {
   "codemirror_mode": {
    "name": "ipython",
    "version": 3
   },
   "file_extension": ".py",
   "mimetype": "text/x-python",
   "name": "python",
   "nbconvert_exporter": "python",
   "pygments_lexer": "ipython3",
   "version": "3.7.3"
  }
 },
 "nbformat": 4,
 "nbformat_minor": 2
}
